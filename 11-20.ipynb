{
 "cells": [
  {
   "cell_type": "code",
   "execution_count": 1,
   "id": "46e7db9c-e88e-4829-935a-79eb69c1855a",
   "metadata": {},
   "outputs": [
    {
     "data": {
      "text/plain": [
       "8×8 Matrix{Int64}:\n",
       " 0  1  0  1  0  1  0  1\n",
       " 1  0  1  0  1  0  1  0\n",
       " 0  1  0  1  0  1  0  1\n",
       " 1  0  1  0  1  0  1  0\n",
       " 0  1  0  1  0  1  0  1\n",
       " 1  0  1  0  1  0  1  0\n",
       " 0  1  0  1  0  1  0  1\n",
       " 1  0  1  0  1  0  1  0"
      ]
     },
     "execution_count": 1,
     "metadata": {},
     "output_type": "execute_result"
    }
   ],
   "source": [
    "# 11. Create a 8x8 matrix and fill it with a checkerboard pattern\n",
    "[(i+j)%2 for i=1:8, j=1:8]"
   ]
  },
  {
   "cell_type": "code",
   "execution_count": 2,
   "id": "2519146e-0986-4999-aa2e-5906e548bc5e",
   "metadata": {},
   "outputs": [
    {
     "data": {
      "text/plain": [
       "(0.003447284724326538, 0.978018457993763)"
      ]
     },
     "execution_count": 2,
     "metadata": {},
     "output_type": "execute_result"
    }
   ],
   "source": [
    "# 12. Create a 10x10 array with random values and find the minimum and maximum values\n",
    "Z = rand(10,10)\n",
    "Zmin,Zmax = minimum(Z),maximum(Z)\n",
    "#Zmin,Zmax = extrema(Z)"
   ]
  },
  {
   "cell_type": "code",
   "execution_count": 3,
   "id": "2e6dbc7d-d555-470d-b666-959383f98dec",
   "metadata": {},
   "outputs": [],
   "source": [
    "# 13. Create a checkerboard 8x8 matrix using the tile function\n",
    "#　分かりません"
   ]
  },
  {
   "cell_type": "code",
   "execution_count": 4,
   "id": "fd031241-0ff6-412f-869d-49225b08e35f",
   "metadata": {},
   "outputs": [
    {
     "data": {
      "text/plain": [
       "5×5 Matrix{Float64}:\n",
       " 0.697214  0.770536  0.257528  0.750659   0.984469\n",
       " 0.14183   0.46543   0.811568  0.715038   0.703007\n",
       " 0.88224   0.132961  0.611589  0.703277   0.811709\n",
       " 0.0       1.0       0.741108  0.753918   0.702692\n",
       " 0.200524  0.621183  0.934656  0.0251492  0.493395"
      ]
     },
     "execution_count": 4,
     "metadata": {},
     "output_type": "execute_result"
    }
   ],
   "source": [
    "# 14. Normalize a 5x5 random matrix (between 0 and 1)\n",
    "Z = rand(5,5)\n",
    "Zmin,Zmax = extrema(Z)\n",
    "Z = (Z .- Zmin)/(Zmax - Zmin)\n",
    "#.(ドット)は各成分への作用を意味する"
   ]
  },
  {
   "cell_type": "code",
   "execution_count": 5,
   "id": "4cc1d21b-6563-4882-8d4b-390068802daf",
   "metadata": {},
   "outputs": [
    {
     "data": {
      "text/plain": [
       "5×2 Matrix{Float64}:\n",
       " 3.0  3.0\n",
       " 3.0  3.0\n",
       " 3.0  3.0\n",
       " 3.0  3.0\n",
       " 3.0  3.0"
      ]
     },
     "execution_count": 5,
     "metadata": {},
     "output_type": "execute_result"
    }
   ],
   "source": [
    "# 15. Multiply a 5x3 matrix by a 3x2 matrix (real matrix product)\n",
    "Z = ones(5,3) * ones(3,2)"
   ]
  },
  {
   "cell_type": "code",
   "execution_count": 6,
   "id": "3264a9af-4a1b-45a1-8bc4-237488ac1400",
   "metadata": {},
   "outputs": [
    {
     "data": {
      "text/plain": [
       "10×10 Matrix{Int64}:\n",
       " 0  1  2  3  4  5  6  7  8  9\n",
       " 0  1  2  3  4  5  6  7  8  9\n",
       " 0  1  2  3  4  5  6  7  8  9\n",
       " 0  1  2  3  4  5  6  7  8  9\n",
       " 0  1  2  3  4  5  6  7  8  9\n",
       " 0  1  2  3  4  5  6  7  8  9\n",
       " 0  1  2  3  4  5  6  7  8  9\n",
       " 0  1  2  3  4  5  6  7  8  9\n",
       " 0  1  2  3  4  5  6  7  8  9\n",
       " 0  1  2  3  4  5  6  7  8  9"
      ]
     },
     "execution_count": 6,
     "metadata": {},
     "output_type": "execute_result"
    }
   ],
   "source": [
    "# 6. Create a 10x10 matrix with row values ranging from 0 to 9\n",
    "[j-1 for i=1:10,j=1:10]"
   ]
  },
  {
   "cell_type": "code",
   "execution_count": 7,
   "id": "04142571-873a-45dd-b12e-c0fbe2f61d4e",
   "metadata": {},
   "outputs": [
    {
     "data": {
      "text/plain": [
       "0.000999000999000999:0.000999000999000999:0.999000999000999"
      ]
     },
     "execution_count": 7,
     "metadata": {},
     "output_type": "execute_result"
    }
   ],
   "source": [
    "# 7. Create a vector of size 1000 with values ranging from 0 to 1, both excluded\n",
    "Z = range(0,1,1002)[2:end-1]\n",
    "#range(initial,end,number)でベクトルを作り、[2:end-1]で端を取り除く"
   ]
  },
  {
   "cell_type": "code",
   "execution_count": 8,
   "id": "c5c9e401-fd1f-46d1-9b83-8b6b1fd65e00",
   "metadata": {},
   "outputs": [
    {
     "data": {
      "text/plain": [
       "100-element Vector{Float64}:\n",
       " 0.0028020794446287356\n",
       " 0.02927982641316662\n",
       " 0.03395390914457053\n",
       " 0.039339404041947246\n",
       " 0.04437937932058167\n",
       " 0.06887367906754793\n",
       " 0.07435725945469296\n",
       " 0.0909603567509667\n",
       " 0.1037627278151505\n",
       " 0.12725990040452806\n",
       " 0.13068800010497705\n",
       " 0.13971937546691127\n",
       " 0.14164104072821415\n",
       " ⋮\n",
       " 0.8931267567585622\n",
       " 0.9003277020547344\n",
       " 0.9018144304125552\n",
       " 0.9136681658798207\n",
       " 0.9169515685486068\n",
       " 0.9251604950833839\n",
       " 0.9325961531470838\n",
       " 0.9385244429699154\n",
       " 0.9403737798349858\n",
       " 0.9443041596393079\n",
       " 0.9642889428708629\n",
       " 0.9745950472253545"
      ]
     },
     "execution_count": 8,
     "metadata": {},
     "output_type": "execute_result"
    }
   ],
   "source": [
    "# 8. Create a random vector of size 100 and sort it\n",
    "Z = rand(100)\n",
    "sort(Z) \n",
    "#Zをソートしたものに置き換えたい場合はsort!(Z)をする"
   ]
  },
  {
   "cell_type": "code",
   "execution_count": 9,
   "id": "2e5d7e8b-8c54-45b4-b87e-9e94bf635754",
   "metadata": {},
   "outputs": [
    {
     "data": {
      "text/plain": [
       "false"
      ]
     },
     "execution_count": 9,
     "metadata": {},
     "output_type": "execute_result"
    }
   ],
   "source": [
    "# 9. Consider two random matrices A anb B, check if they are equal.\n",
    "A,B = rand(10)\n",
    "A == B"
   ]
  },
  {
   "cell_type": "code",
   "execution_count": 10,
   "id": "3934ffec-8137-4a11-8309-44a4910290a8",
   "metadata": {},
   "outputs": [
    {
     "data": {
      "text/plain": [
       "0.4796864154341705"
      ]
     },
     "execution_count": 10,
     "metadata": {},
     "output_type": "execute_result"
    }
   ],
   "source": [
    "using Statistics\n",
    "# 10. Create a random vector of size 1000 and find the mean value\n",
    "Z = rand(1000)\n",
    "m = mean(Z)"
   ]
  }
 ],
 "metadata": {
  "kernelspec": {
   "display_name": "Julia 1.7.3",
   "language": "julia",
   "name": "julia-1.7"
  },
  "language_info": {
   "file_extension": ".jl",
   "mimetype": "application/julia",
   "name": "julia",
   "version": "1.7.3"
  }
 },
 "nbformat": 4,
 "nbformat_minor": 5
}
